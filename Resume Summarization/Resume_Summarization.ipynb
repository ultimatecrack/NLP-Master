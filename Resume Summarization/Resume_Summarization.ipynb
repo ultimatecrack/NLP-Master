{
  "nbformat": 4,
  "nbformat_minor": 0,
  "metadata": {
    "colab": {
      "name": "Resume Summarization.ipynb",
      "provenance": [],
      "collapsed_sections": [],
      "authorship_tag": "ABX9TyOee2Pg/h664irpel5zGE6t",
      "include_colab_link": true
    },
    "kernelspec": {
      "name": "python3",
      "display_name": "Python 3"
    }
  },
  "cells": [
    {
      "cell_type": "markdown",
      "metadata": {
        "id": "view-in-github",
        "colab_type": "text"
      },
      "source": [
        "<a href=\"https://colab.research.google.com/github/ultimatecrack/NLP-Master/blob/master/Resume%20Summarization/Resume_Summarization.ipynb\" target=\"_parent\"><img src=\"https://colab.research.google.com/assets/colab-badge.svg\" alt=\"Open In Colab\"/></a>"
      ]
    },
    {
      "cell_type": "code",
      "metadata": {
        "id": "3y4zCrCrqT9Y",
        "colab_type": "code",
        "colab": {}
      },
      "source": [
        "import spacy\n",
        "import pickle\n",
        "import random"
      ],
      "execution_count": null,
      "outputs": []
    },
    {
      "cell_type": "code",
      "metadata": {
        "id": "_BEu7A8aqgtr",
        "colab_type": "code",
        "colab": {}
      },
      "source": [
        "train_data = pickle.load(open('train_data.pkl', 'rb'))"
      ],
      "execution_count": null,
      "outputs": []
    },
    {
      "cell_type": "code",
      "metadata": {
        "id": "gdVircqgvsBk",
        "colab_type": "code",
        "colab": {
          "base_uri": "https://localhost:8080/",
          "height": 479
        },
        "outputId": "c1a78d91-14d8-4801-f642-3f4b24f57899"
      },
      "source": [
        "train_data[0]"
      ],
      "execution_count": null,
      "outputs": [
        {
          "output_type": "execute_result",
          "data": {
            "text/plain": [
              "('Govardhana K Senior Software Engineer  Bengaluru, Karnataka, Karnataka - Email me on Indeed: indeed.com/r/Govardhana-K/ b2de315d95905b68  Total IT experience 5 Years 6 Months Cloud Lending Solutions INC 4 Month • Salesforce Developer Oracle 5 Years 2 Month • Core Java Developer Languages Core Java, Go Lang Oracle PL-SQL programming, Sales Force Developer with APEX.  Designations & Promotions  Willing to relocate: Anywhere  WORK EXPERIENCE  Senior Software Engineer  Cloud Lending Solutions -  Bangalore, Karnataka -  January 2018 to Present  Present  Senior Consultant  Oracle -  Bangalore, Karnataka -  November 2016 to December 2017  Staff Consultant  Oracle -  Bangalore, Karnataka -  January 2014 to October 2016  Associate Consultant  Oracle -  Bangalore, Karnataka -  November 2012 to December 2013  EDUCATION  B.E in Computer Science Engineering  Adithya Institute of Technology -  Tamil Nadu  September 2008 to June 2012  https://www.indeed.com/r/Govardhana-K/b2de315d95905b68?isid=rex-download&ikw=download-top&co=IN https://www.indeed.com/r/Govardhana-K/b2de315d95905b68?isid=rex-download&ikw=download-top&co=IN   SKILLS  APEX. (Less than 1 year), Data Structures (3 years), FLEXCUBE (5 years), Oracle (5 years), Algorithms (3 years)  LINKS  https://www.linkedin.com/in/govardhana-k-61024944/  ADDITIONAL INFORMATION  Technical Proficiency:  Languages: Core Java, Go Lang, Data Structures & Algorithms, Oracle PL-SQL programming, Sales Force with APEX. Tools: RADTool, Jdeveloper, NetBeans, Eclipse, SQL developer, PL/SQL Developer, WinSCP, Putty Web Technologies: JavaScript, XML, HTML, Webservice  Operating Systems: Linux, Windows Version control system SVN & Git-Hub Databases: Oracle Middleware: Web logic, OC4J Product FLEXCUBE: Oracle FLEXCUBE Versions 10.x, 11.x and 12.x  https://www.linkedin.com/in/govardhana-k-61024944/',\n",
              " {'entities': [(1749, 1755, 'Companies worked at'),\n",
              "   (1696, 1702, 'Companies worked at'),\n",
              "   (1417, 1423, 'Companies worked at'),\n",
              "   (1356, 1793, 'Skills'),\n",
              "   (1209, 1215, 'Companies worked at'),\n",
              "   (1136, 1248, 'Skills'),\n",
              "   (928, 932, 'Graduation Year'),\n",
              "   (858, 889, 'College Name'),\n",
              "   (821, 856, 'Degree'),\n",
              "   (787, 791, 'Graduation Year'),\n",
              "   (744, 750, 'Companies worked at'),\n",
              "   (722, 742, 'Designation'),\n",
              "   (658, 664, 'Companies worked at'),\n",
              "   (640, 656, 'Designation'),\n",
              "   (574, 580, 'Companies worked at'),\n",
              "   (555, 573, 'Designation'),\n",
              "   (470, 493, 'Companies worked at'),\n",
              "   (444, 469, 'Designation'),\n",
              "   (308, 314, 'Companies worked at'),\n",
              "   (234, 240, 'Companies worked at'),\n",
              "   (175, 198, 'Companies worked at'),\n",
              "   (93, 137, 'Email Address'),\n",
              "   (39, 48, 'Location'),\n",
              "   (13, 38, 'Designation'),\n",
              "   (0, 12, 'Name')]})"
            ]
          },
          "metadata": {
            "tags": []
          },
          "execution_count": 5
        }
      ]
    },
    {
      "cell_type": "code",
      "metadata": {
        "id": "Wh_K2WAHwAan",
        "colab_type": "code",
        "colab": {}
      },
      "source": [
        "nlp = spacy.blank('en')\n",
        "\n",
        "def train_model(train_data):\n",
        "  if 'ner' not in nlp.pipe_names:\n",
        "    ner = nlp.create_pipe('ner')\n",
        "    nlp.add_pipe(ner, last = True)\n",
        "\n",
        "  for _, annotation in train_data:\n",
        "    for ent in annotation['entities']:\n",
        "      ner.add_label(ent[2])\n",
        "  \n",
        "  other_pipes = [pipe for pipe in nlp.pipe_names if pipe != 'ner']\n",
        "  with nlp.disable_pipes(*other_pipes):\n",
        "    optimizer = nlp.begin_training()\n",
        "\n",
        "    for itn in range(10):\n",
        "      print('Starting iteration '+ str(itn))\n",
        "      random.shuffle(train_data)\n",
        "      losses = {}\n",
        "      index = 0\n",
        "      for text, annotations in train_data:\n",
        "        #print index\n",
        "        try:\n",
        "          nlp.update(\n",
        "              [text], \n",
        "              [annotations], \n",
        "              drop = 0.2, \n",
        "              sgd = optimizer, \n",
        "              losses = losses)\n",
        "        except Exception as e:\n",
        "          pass\n",
        "          # print()\n",
        "      print(losses)"
      ],
      "execution_count": null,
      "outputs": []
    },
    {
      "cell_type": "code",
      "metadata": {
        "id": "iGCiXtGD0JCi",
        "colab_type": "code",
        "colab": {
          "base_uri": "https://localhost:8080/",
          "height": 357
        },
        "outputId": "9db74105-0a66-42de-d5ab-899640e6a10e"
      },
      "source": [
        "train_model(train_data)"
      ],
      "execution_count": null,
      "outputs": [
        {
          "output_type": "stream",
          "text": [
            "Starting iteration 0\n",
            "{'ner': 14593.802796427413}\n",
            "Starting iteration 1\n",
            "{'ner': 8683.365274074302}\n",
            "Starting iteration 2\n",
            "{'ner': 8819.985792161888}\n",
            "Starting iteration 3\n",
            "{'ner': 6428.612317624137}\n",
            "Starting iteration 4\n",
            "{'ner': 5928.270233595826}\n",
            "Starting iteration 5\n",
            "{'ner': 8067.030529402531}\n",
            "Starting iteration 6\n",
            "{'ner': 5344.515466778849}\n",
            "Starting iteration 7\n",
            "{'ner': 5386.52678365853}\n",
            "Starting iteration 8\n",
            "{'ner': 5008.530506837516}\n",
            "Starting iteration 9\n",
            "{'ner': 4044.3947558216514}\n"
          ],
          "name": "stdout"
        }
      ]
    },
    {
      "cell_type": "code",
      "metadata": {
        "id": "jTE5ethE3mwW",
        "colab_type": "code",
        "colab": {}
      },
      "source": [
        "nlp.to_disk('nlp_model')"
      ],
      "execution_count": null,
      "outputs": []
    },
    {
      "cell_type": "code",
      "metadata": {
        "id": "WG_zLM973rjO",
        "colab_type": "code",
        "colab": {}
      },
      "source": [
        "nlp_model = spacy.load('nlp_model')"
      ],
      "execution_count": null,
      "outputs": []
    },
    {
      "cell_type": "code",
      "metadata": {
        "id": "bzJa3OnM38VZ",
        "colab_type": "code",
        "colab": {
          "base_uri": "https://localhost:8080/",
          "height": 513
        },
        "outputId": "54d4d125-c793-48fa-97b9-06097f3b3d2b"
      },
      "source": [
        "train_data[0]"
      ],
      "execution_count": null,
      "outputs": [
        {
          "output_type": "execute_result",
          "data": {
            "text/plain": [
              "(\"Kartik Sharma Systems Engineer - Infosys Ltd  Delhi, Delhi - Email me on Indeed: indeed.com/r/Kartik-Sharma/cc7951fd7809f35e  ● Qualified B.Tech in Information Technology with 2.5 years overall and 2 years' experience in SAP Security, Project Management and Software Support. ● Currently spearheading as Senior Systems Engineer with Infosys Ltd Pune, well versed in Analysis, Test and Support activities. ● Proficient in handling various projects and managing project risks. Possess up to date knowledge of latest technological advancements, regulations and statutory compliances in the industry. ● Instrumental in building relations with upper level decision makers, seizing control of critical problem areas and delivering on client commitments.  PROJECT ANNEXURE:  Project Name: RB (Reckitt Benckiser) Duration: Since April '16 Role: SAP Security Consultant Responsibilities: ● Technical analyst for sap security in production and non-production environments. ● Worked with Security related tables such as AGR*, USR* etc. ● Performed User comparison using PFCG. ● Analysing user access issues using SU53 and system trace (ST01) ● Role changes done using PFCG as per the change request received. ● Mass user changes using SHDB, LSMW, SU10. ● Control Firefighter access in GRC10.1. ● Handling/Creating Solman CR as per Business requirement. ● Working on tool Service-Now for User/Business/Technical support.  PROJECT KEY RESULT AREAS:  ● Extensive working knowledge in SAP ECC 6.0, SAP R/3 Enterprise GRC 10.1. ● Expertise in Role Administration, PFCG, User reports, Authorization objects. ● Expertise in Risk Analysis, Mitigation and Remediation. ● Utilize SU24 to enable/disable security checks ● Granting privileged and compensatory controls, providing access in controlled environment using Fire-fighter id. ● Troubleshoot security/authorization using SU53, ST01 and SUIM. ● Restrict table access through authorization groups. ● Ticket handling-related to various issues ranging from user expiration to missing authorizations. ● Addition, Removal of transaction codes, authorizations, authorization objects by modifying existing roles based upon change request. ● Supporting Site Go-Lives.  Willing to relocate to: Delhi - Noida, Uttar Pradesh - Gurgaon, Haryana  https://www.indeed.com/r/Kartik-Sharma/cc7951fd7809f35e?isid=rex-download&ikw=download-top&co=IN   WORK EXPERIENCE  Systems Engineer  Infosys Ltd -  Delhi, Delhi -  March 2016 to Present  as a management trainee. • Worked with 'AVS InfoTech' as a part-time employee. • Guided students in Science, Math and C++ for 4 years.  TECHNICAL SKILL SET  SAP Systems: SAP ECC 6.0. Product Tools: GRC 10.1 Database: Oracle, SQL, RDBMS.  Senior Systems engineer  Infosys Limited -  September 2015 to Present  Working as SAP SECURITY consultant in a client project with Infosys  EDUCATION  B.Tech in Engineering  Northern India engineering college, IP UNIVERSITY DELHI  2015  CBSE  Lovely Public Sr. Sec. School  2011  CBSE  Lovely Public Sr. Sec. School  2009  University / Board  SKILLS  SAP Security    ADDITIONAL INFORMATION  Operating systems: Windows […] 8, 10. Languages: C, C++, C#  PROFESSIONAL SKILL SET:  • Good Communication Skills in English and Hindi. • Ability to work under pressure.\",\n",
              " {'entities': [(3086, 3255, 'Skills'),\n",
              "   (3046, 3058, 'Skills'),\n",
              "   (2981, 3010, 'College Name'),\n",
              "   (2975, 2979, 'Degree'),\n",
              "   (2969, 2973, 'Graduation Year'),\n",
              "   (2938, 2967, 'College Name'),\n",
              "   (2932, 2936, 'Degree'),\n",
              "   (2926, 2930, 'Graduation Year'),\n",
              "   (2869, 2924, 'College Name'),\n",
              "   (2846, 2868, 'Degree'),\n",
              "   (2749, 2753, 'Graduation Year'),\n",
              "   (2614, 2693, 'Skills'),\n",
              "   (2425, 2430, 'Location'),\n",
              "   (2418, 2423, 'Location'),\n",
              "   (2385, 2401, 'Designation'),\n",
              "   (2220, 2225, 'Location'),\n",
              "   (837, 849, 'Skills'),\n",
              "   (332, 344, 'Companies worked at'),\n",
              "   (311, 327, 'Designation'),\n",
              "   (221, 233, 'Skills'),\n",
              "   (138, 170, 'Degree'),\n",
              "   (81, 125, 'Email Address'),\n",
              "   (53, 58, 'Location'),\n",
              "   (46, 51, 'Location'),\n",
              "   (32, 44, 'Companies worked at'),\n",
              "   (14, 30, 'Designation'),\n",
              "   (0, 13, 'Name')]})"
            ]
          },
          "metadata": {
            "tags": []
          },
          "execution_count": 16
        }
      ]
    },
    {
      "cell_type": "code",
      "metadata": {
        "id": "3yqCt5Yk4C8g",
        "colab_type": "code",
        "colab": {
          "base_uri": "https://localhost:8080/",
          "height": 224
        },
        "outputId": "0714ca44-844a-410c-a632-7b65489803ce"
      },
      "source": [
        "doc = nlp_model(train_data[0][0])\n",
        "\n",
        "for ent in doc.ents:\n",
        "  print(f'{ent.label_.upper():{30}}- {ent.text}')"
      ],
      "execution_count": null,
      "outputs": [
        {
          "output_type": "stream",
          "text": [
            "NAME                          - Kartik Sharma\n",
            "DESIGNATION                   - Systems Engineer\n",
            "COMPANIES WORKED AT           - Infosys Ltd\n",
            "LOCATION                      - Delhi\n",
            "DEGREE                        - B.Tech in Information Technology with 2.5 years overall and 2 years' experience in SAP Security, Project Management and Software Support. ● Currently spearheading as Senior Systems Engineer\n",
            "DESIGNATION                   - Systems Engineer\n",
            "COMPANIES WORKED AT           - Infosys Ltd\n",
            "COMPANIES WORKED AT           - Infosys Limited\n",
            "COMPANIES WORKED AT           - Infosys\n",
            "DEGREE                        - B.Tech in Engineering\n",
            "SKILLS                        - SAP Security    ADDITIONAL INFORMATION  Operating systems: Windows […] 8, 10. Languages: C, C++, C#  PROFESSIONAL SKILL SET:  • Good Communication Skills in English and Hindi. • Ability to work under pressure.\n"
          ],
          "name": "stdout"
        }
      ]
    },
    {
      "cell_type": "code",
      "metadata": {
        "id": "ch0zwzBx5GgQ",
        "colab_type": "code",
        "colab": {
          "base_uri": "https://localhost:8080/",
          "height": 122
        },
        "outputId": "0ac6570c-0d84-4631-ea02-1bb4bceb63c4"
      },
      "source": [
        "!pip install PyMuPDF"
      ],
      "execution_count": null,
      "outputs": [
        {
          "output_type": "stream",
          "text": [
            "Collecting PyMuPDF\n",
            "\u001b[?25l  Downloading https://files.pythonhosted.org/packages/3f/a1/11e63fd3746e0e6e07e71226cb51ef8a3cc2a2ad5577be04e8470035ce4a/PyMuPDF-1.17.5-cp36-cp36m-manylinux2010_x86_64.whl (6.0MB)\n",
            "\u001b[K     |████████████████████████████████| 6.0MB 2.8MB/s \n",
            "\u001b[?25hInstalling collected packages: PyMuPDF\n",
            "Successfully installed PyMuPDF-1.17.5\n"
          ],
          "name": "stdout"
        }
      ]
    },
    {
      "cell_type": "code",
      "metadata": {
        "id": "8Zl2fdEC5-1C",
        "colab_type": "code",
        "colab": {
          "base_uri": "https://localhost:8080/",
          "height": 54
        },
        "outputId": "212df552-1bcd-4282-dd4d-9063380ff2dd"
      },
      "source": [
        "import sys, fitz\n",
        "fname = '/content/rakesh CV updated - Google Docs.pdf'\n",
        "doc = fitz.open(fname)\n",
        "text = \"\"\n",
        "for page in doc:\n",
        "  text = text + str(page.getText())\n",
        "\n",
        "tx = \" \".join(text.split('\\n'))\n",
        "print(tx)"
      ],
      "execution_count": null,
      "outputs": [
        {
          "output_type": "stream",
          "text": [
            "  CURRICULUM   VITAE     Name:   Rakesh   Nilamadhaba   Panigrahy   Address:   Rm   no   405,  Ram   Smruti  Apt,   Sadguru   Nagar,  Diva  East,   400612   Email   Id:   panigrahyrakesh143@gmail.com  Contact   No:   9768807119  /   7718050901    Career   objective:   Secure   a   responsible   career   opportunity   to   fully   utilize   my   training,   skills   and   experience,   while   making   a   significant   contribution   to   the   success   of   the   company   and   myself   too.     Academic   Record:     Qualification     Institution   Board   /   University   Year   of   passing   Percentage/  Grade   B.Sc.   (Information   Technology)   Model   college   Mumbai   2019  7.8  CGPA   12th   Khemundi   College,   Digapahandi   CHSE,   Odisha   2015  68.33%   10th   Boripadar   High  School   BSE,   Odisha   2013  79.83%     Technical   Knowledge:     Machine   Learning,   Deep   Learning,   Tableau,   Sql,   Nosql,   Python,   Advance   Excel,   PHP,  Javascript     Internship:     Company   Name:   Shopehunt   Owner:   Sandeep   Singh   Contact:   9096441489   Address:   Shop   No.   1,  C-21,  Sector   8,  Shanti   Nagar,  Mira   Road   East,   Mira   Bhayandar,  Maharashtra,   401107   Duration:   Dec   2017  –  July   2018  Nature   of   work:   Modifying   existing   websites,   New   web   project   development,   PHP   Development,   E-   commerce   web   development   using   OpenCart   framework,   cPanel   and   MySQL   database   handling,   domain   registration,   commercial   mail   generating.     Projects:     1.  Smart   Attendance   System:   Total   attendance   management   system   with   real   time   attendance   update   feature.   Student   Location   tracking,   online   library,  query   raising   features   are   the   extra   addons   make   it   more   efficient.   Technologies   used:   Android,   PHP,  MySQL   2.  Chemical   selling   website:   Selling   of   available   chemical   products   and   handling   customer   report.   Technologies   used:   PHP,  MySQL   3.  Online   Dictionary:   Three   types   of   dictionaries   provided   there   i.e.,   ➢  Normal   English   to   Hindi   and   Marathi.   ➢  Technical   keyword   search   ➢  Programming   language   keyword   search   Technologies   used:   PHP,  MySQL   4.  Online   garage   system:    Raising   service   requests   anywhere   on  the   go  using   mobile.   Just   go  to   the   website   and   search   the   nearest   garage   and   raise   a   query.   Technologies   used:   PHP,  MySQL   Besides   above   mentioned   projects   I’ve   also   worked   on  some   of   the   existing   project   and   remodified   those,   which   are   based   on  Java   and   PHP.    Experience   :      Company   Name:    Neural   IT   Pvt.   Ltd.   Address:   Suite   3,  Floor   8,  Bldg.   3,  Mindspace   SEZ,   Airoli,,   Navi   Mumbai,   Maharashtra   400708  Designation:   Software   Developer   DOJ:   05-08-2019   Duration:    Working   Nature   of   work:   Neural   IT   has   its   own   product   MyEhrms  application,   which   handles   all   the   management   tasks.  Everything   is   automated   by  this   application.   I   am   working   as   a   software   developer   and   my   roles   and   responsibility   is,    1. To  develop   new   functionality   according   to   client   need.   2. Fixing   bugs   in   the   application.   3. Research   on  the   new   functionality   to   decide   what   are   the   challenges   may   occur   while   development.   4. Code   enhancement.   5. Code   deployment   from   bugfix   server   to   live   server.    6. Integration   of   biometric   devices   of   clients   with   our   myehrms   system.      Personal   Details   :     Date   of   Birth              :   01/02/1997   Gender  :   Male    Marital   Status  :   No   Category  :   General   Languages   Known     :   HINDI,   ENGLISH,   ODIA,   MARATHI   Hobbies             :   Playing   cricket,   learning   new   technologies,   listening   music,   watching   movies.     Social   Links:     LinkedIn   :   https://www.linkedin.com/in/rakesh-panigrahy-062166102/     Github   :   https://github.com/ultimatecrack/machine-learning        https://github.com/ultimatecrack/projects     Kaggle   :   https://www.kaggle.com/rakeshpanigrahy     Declaration:        I     hereby   declare   that   the   above   mentioned   details   are   true   as   per   my   belief   and   knowledge.     Place:   Diva       (Rakesh   Panigrahy)   \n"
          ],
          "name": "stdout"
        }
      ]
    },
    {
      "cell_type": "code",
      "metadata": {
        "id": "WWINB2_3_glZ",
        "colab_type": "code",
        "colab": {
          "base_uri": "https://localhost:8080/",
          "height": 255
        },
        "outputId": "a5d7423b-1d8c-49b7-e979-aa3ce32af5aa"
      },
      "source": [
        "doc = nlp_model(tx)\n",
        "\n",
        "for ent in doc.ents:\n",
        "  print(f'{ent.label_.upper():{30}}- {ent.text}')"
      ],
      "execution_count": null,
      "outputs": [
        {
          "output_type": "stream",
          "text": [
            "SKILLS                        - CURRICULUM   VITAE     Name:\n",
            "LOCATION                      - Nagar\n",
            "DEGREE                        - B.Sc.\n",
            "COLLEGE NAME                  - 10th\n",
            "COLLEGE NAME                  - Boripadar\n",
            "DEGREE                        - High\n",
            "COLLEGE NAME                  - School\n",
            "DEGREE                        - BSE,\n",
            "GRADUATION YEAR               - 2013\n",
            "SKILLS                        - Shopehunt   Owner:   Sandeep   Singh   Contact:   9096441489\n",
            "LOCATION                      - 8\n",
            "GRADUATION YEAR               - 2018\n",
            "DEGREE                        - developer\n",
            "SKILLS                        - HINDI,   ENGLISH,   ODIA,   MARATHI\n"
          ],
          "name": "stdout"
        }
      ]
    }
  ]
}